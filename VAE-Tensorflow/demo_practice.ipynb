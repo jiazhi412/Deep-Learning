{
 "cells": [
  {
   "cell_type": "code",
   "execution_count": null,
   "metadata": {
    "scrolled": true
   },
   "outputs": [],
   "source": []
  },
  {
   "cell_type": "code",
   "execution_count": null,
   "metadata": {
    "scrolled": false
   },
   "outputs": [],
   "source": [
    "# Dataset"
   ]
  },
  {
   "cell_type": "code",
   "execution_count": null,
   "metadata": {},
   "outputs": [],
   "source": [
    "class Autoencoder(object):\n",
    "\n",
    "    def __init__(self, ):\n",
    "        # Set hyperparameters\n",
    "        # TODOs\n",
    "\n",
    "        # Build the graph\n",
    "        # TODOs\n",
    "\n",
    "        # Initialize paramters\n",
    "        # TODOs\n",
    "\n",
    "    # Build the netowrk and the loss functions\n",
    "    def build(self):\n",
    "        # TODOs\n",
    "        \n",
    "        # Encode\n",
    "        # x -> z\n",
    "        # TODOs\n",
    "\n",
    "        # Decode\n",
    "        # z -> x_hat\n",
    "        # TODOs\n",
    "\n",
    "        # Loss\n",
    "        # Reconstruction loss\n",
    "        # Minimize the cross-entropy loss\n",
    "        # H(x, x_hat) = -\\Sigma x*log(x_hat) + (1-x)*log(1-x_hat)\n",
    "        # TODOs\n",
    "\n",
    "        # Optimizer\n",
    "        # TODOs\n",
    "        return\n",
    "\n",
    "    # Execute the forward and the backward pass\n",
    "    def run_single_step(self, ):\n",
    "        # TODOs\n",
    "        return \n",
    "    \n",
    "    # x -> x_hat\n",
    "    def reconstructor(self, ):\n",
    "        # TODOs\n",
    "        return\n",
    "    \n",
    "    # x -> z\n",
    "    def transformer(self, ):\n",
    "        # TODOs\n",
    "        return    "
   ]
  },
  {
   "cell_type": "code",
   "execution_count": null,
   "metadata": {},
   "outputs": [],
   "source": [
    "def trainer(model_class, ):\n",
    "    # Create a model    \n",
    "    # TODOs\n",
    "\n",
    "    # Training loop    \n",
    "    # TODOs\n",
    "            \n",
    "    return"
   ]
  },
  {
   "cell_type": "code",
   "execution_count": null,
   "metadata": {
    "scrolled": false
   },
   "outputs": [],
   "source": [
    "# Train a model\n",
    "model = trainer(Autoencoder)"
   ]
  },
  {
   "cell_type": "code",
   "execution_count": null,
   "metadata": {},
   "outputs": [],
   "source": [
    "def test_reconstruction(model, mnist, h=28, w=28, batch_size=100):\n",
    "    # Test the trained model: reconstruction\n",
    "    batch = mnist.test.next_batch(batch_size)\n",
    "    x_reconstructed = model.reconstructor(batch[0])\n",
    "\n",
    "    n = np.sqrt(batch_size).astype(np.int32)\n",
    "    I_reconstructed = np.empty((h*n, 2*w*n))\n",
    "    for i in range(n):\n",
    "        for j in range(n):\n",
    "            x = np.concatenate(\n",
    "                (x_reconstructed[i*n+j, :].reshape(h, w), \n",
    "                 batch[0][i*n+j, :].reshape(h, w)),\n",
    "                axis=1\n",
    "            )\n",
    "            I_reconstructed[i*h:(i+1)*h, j*2*w:(j+1)*2*w] = x\n",
    "\n",
    "    plt.figure(figsize=(10, 20))\n",
    "    plt.imshow(I_reconstructed, cmap='gray')"
   ]
  },
  {
   "cell_type": "code",
   "execution_count": null,
   "metadata": {},
   "outputs": [],
   "source": [
    "test_reconstruction(model, mnist)"
   ]
  },
  {
   "cell_type": "code",
   "execution_count": null,
   "metadata": {},
   "outputs": [],
   "source": [
    "# Train a model with 2d latent space\n",
    "model_2d = trainer(Autoencoder, n_z=2)"
   ]
  },
  {
   "cell_type": "code",
   "execution_count": null,
   "metadata": {},
   "outputs": [],
   "source": [
    "test_reconstruction(model_2d, mnist)"
   ]
  },
  {
   "cell_type": "code",
   "execution_count": null,
   "metadata": {},
   "outputs": [],
   "source": [
    "def test_transformation(model_2d, mnist, batch_size=3000):\n",
    "    # Test the trained model: transformation\n",
    "    assert model_2d.n_z == 2\n",
    "    batch = mnist.test.next_batch(batch_size)\n",
    "    z = model_2d.transformer(batch[0])\n",
    "    plt.figure(figsize=(10, 8)) \n",
    "    plt.scatter(z[:, 0], z[:, 1], c=np.argmax(batch[1], 1), s=20)\n",
    "    plt.colorbar()\n",
    "    plt.grid()"
   ]
  },
  {
   "cell_type": "code",
   "execution_count": null,
   "metadata": {},
   "outputs": [],
   "source": [
    "test_transformation(model_2d, mnist)"
   ]
  },
  {
   "cell_type": "code",
   "execution_count": null,
   "metadata": {},
   "outputs": [],
   "source": [
    "class VariantionalAutoencoder(object):\n",
    "    \n",
    "    def __init__(self, ):"
   ]
  },
  {
   "cell_type": "code",
   "execution_count": null,
   "metadata": {},
   "outputs": [],
   "source": [
    "# Train a vae model\n",
    "model_vae = trainer(VariantionalAutoencoder)"
   ]
  },
  {
   "cell_type": "code",
   "execution_count": null,
   "metadata": {},
   "outputs": [],
   "source": [
    "test_reconstruction(model_vae, mnist)"
   ]
  },
  {
   "cell_type": "code",
   "execution_count": null,
   "metadata": {},
   "outputs": [],
   "source": [
    "def test_generation(model, z=None, h=28, w=28, batch_size=100):\n",
    "    # Test the trained model: generation\n",
    "    # Sample noise vectors from N(0, 1)\n",
    "    if z is None:\n",
    "        z = np.random.normal(size=[batch_size, model.n_z])\n",
    "    x_generated = model.generator(z)    \n",
    "\n",
    "    n = np.sqrt(batch_size).astype(np.int32)\n",
    "    I_generated = np.empty((h*n, w*n))\n",
    "    for i in range(n):\n",
    "        for j in range(n):\n",
    "            I_generated[i*h:(i+1)*h, j*w:(j+1)*w] = x_generated[i*n+j, :].reshape(h, w)\n",
    "            \n",
    "    plt.figure(figsize=(8, 8))\n",
    "    plt.imshow(I_generated, cmap='gray')"
   ]
  },
  {
   "cell_type": "code",
   "execution_count": null,
   "metadata": {},
   "outputs": [],
   "source": [
    "test_generation(model_vae)"
   ]
  },
  {
   "cell_type": "code",
   "execution_count": null,
   "metadata": {},
   "outputs": [],
   "source": [
    "# Train a model with 2d latent space\n",
    "model_vae_2d = trainer(VariantionalAutoencoder, n_z=2)"
   ]
  },
  {
   "cell_type": "code",
   "execution_count": null,
   "metadata": {},
   "outputs": [],
   "source": [
    "test_transformation(model_vae_2d, mnist)"
   ]
  },
  {
   "cell_type": "code",
   "execution_count": null,
   "metadata": {
    "scrolled": false
   },
   "outputs": [],
   "source": [
    "# Test the trained model: uniformly samlpe in the latent space\n",
    "n = 20\n",
    "x = np.linspace(-2, 2, n)\n",
    "y = np.flip(np.linspace(-2, 2, n))\n",
    "z = []\n",
    "for i, xi in enumerate(x):\n",
    "    for j, yi in enumerate(y):\n",
    "        z.append(np.array([xi, yi]))\n",
    "z = np.stack(z)\n",
    "\n",
    "# generate images\n",
    "test_generation(model_vae_2d, z, batch_size=n**2)"
   ]
  }
 ],
 "metadata": {
  "kernelspec": {
   "display_name": "Python 3",
   "language": "python",
   "name": "python3"
  },
  "language_info": {
   "codemirror_mode": {
    "name": "ipython",
    "version": 3
   },
   "file_extension": ".py",
   "mimetype": "text/x-python",
   "name": "python",
   "nbconvert_exporter": "python",
   "pygments_lexer": "ipython3",
   "version": "3.5.2"
  }
 },
 "nbformat": 4,
 "nbformat_minor": 2
}
